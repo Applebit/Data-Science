{
 "cells": [
  {
   "cell_type": "code",
   "execution_count": 1,
   "metadata": {
    "collapsed": false
   },
   "outputs": [
    {
     "name": "stdout",
     "output_type": "stream",
     "text": [
      "Populating the interactive namespace from numpy and matplotlib\n"
     ]
    },
    {
     "name": "stderr",
     "output_type": "stream",
     "text": [
      "WARNING: pylab import has clobbered these variables: ['info', 'unique', 'datetime']\n",
      "`%matplotlib` prevents importing * from pylab and numpy\n"
     ]
    }
   ],
   "source": [
    "#import the data analysis modules\n",
    "from pandas import *\n",
    "import pandas as pd\n",
    "import numpy as np\n",
    "import matplotlib.pyplot as plt\n",
    "%pylab inline"
   ]
  },
  {
   "cell_type": "code",
   "execution_count": 2,
   "metadata": {
    "collapsed": true
   },
   "outputs": [],
   "source": [
    "#pandas data structures mainly Series and DataFrame \n",
    "#Series \n",
    "s = Series([1,3,5,np.nan,6,8]) #passing a list"
   ]
  },
  {
   "cell_type": "code",
   "execution_count": 3,
   "metadata": {
    "collapsed": false
   },
   "outputs": [
    {
     "name": "stdout",
     "output_type": "stream",
     "text": [
      "0     1\n",
      "1     3\n",
      "2     5\n",
      "3   NaN\n",
      "4     6\n",
      "5     8\n",
      "dtype: float64\n"
     ]
    }
   ],
   "source": [
    "print s"
   ]
  },
  {
   "cell_type": "code",
   "execution_count": 5,
   "metadata": {
    "collapsed": true
   },
   "outputs": [],
   "source": [
    "number=['one','three','five','nan','six','eight']"
   ]
  },
  {
   "cell_type": "code",
   "execution_count": 7,
   "metadata": {
    "collapsed": true
   },
   "outputs": [],
   "source": [
    "#you can explicity give the index,by default the index will be numbered from 0 to len(series-1)\n",
    "s=Series([1,3,5,np.nan,6,8],index=number) "
   ]
  },
  {
   "cell_type": "code",
   "execution_count": 8,
   "metadata": {
    "collapsed": false
   },
   "outputs": [
    {
     "name": "stdout",
     "output_type": "stream",
     "text": [
      "one       1\n",
      "three     3\n",
      "five      5\n",
      "nan     NaN\n",
      "six       6\n",
      "eight     8\n",
      "dtype: float64\n"
     ]
    }
   ],
   "source": [
    "print s"
   ]
  },
  {
   "cell_type": "code",
   "execution_count": 9,
   "metadata": {
    "collapsed": true
   },
   "outputs": [],
   "source": [
    "#date_range function is in pandas which creates the list of dates from start to start+periods\n",
    "dates=date_range('20160216',periods=6)"
   ]
  },
  {
   "cell_type": "code",
   "execution_count": 10,
   "metadata": {
    "collapsed": false
   },
   "outputs": [
    {
     "name": "stdout",
     "output_type": "stream",
     "text": [
      "DatetimeIndex(['2016-02-16', '2016-02-17', '2016-02-18', '2016-02-19',\n",
      "               '2016-02-20', '2016-02-21'],\n",
      "              dtype='datetime64[ns]', freq='D')\n"
     ]
    }
   ],
   "source": [
    "print dates"
   ]
  },
  {
   "cell_type": "code",
   "execution_count": 16,
   "metadata": {
    "collapsed": false
   },
   "outputs": [],
   "source": [
    "#create the DataFrame\n",
    "#the DataFrame has three attributes index,columns,values\n",
    "#np.random.randn(x,y) create the x rows and y columns random number 2D np.array\n",
    "df=DataFrame(np.random.randn(6,4),index=dates,columns=list('ABCD'))"
   ]
  },
  {
   "cell_type": "code",
   "execution_count": 17,
   "metadata": {
    "collapsed": false
   },
   "outputs": [
    {
     "name": "stdout",
     "output_type": "stream",
     "text": [
      "                   A         B         C         D\n",
      "2016-02-16 -0.777715  0.832819  0.308761  0.441936\n",
      "2016-02-17 -0.480723 -1.293394  0.930980  0.414803\n",
      "2016-02-18 -0.323725  0.207236 -0.079057  0.044622\n",
      "2016-02-19 -0.911825 -0.443269  1.122244 -0.812158\n",
      "2016-02-20  1.517761 -0.111079  0.345689  0.164318\n",
      "2016-02-21 -1.142340  1.063549 -0.168490 -0.878292\n"
     ]
    }
   ],
   "source": [
    "print df"
   ]
  },
  {
   "cell_type": "code",
   "execution_count": 18,
   "metadata": {
    "collapsed": true
   },
   "outputs": [],
   "source": [
    "#we can create the DataFrame from the pyhton dictionary\n",
    "#the index is crated here by 'C' columns \n",
    "df2 = pd.DataFrame({ 'A' : 1.,\n",
    "                     'B' : pd.Timestamp('20130102'),\n",
    "                     'C' : pd.Series(1,index=list(range(4)),dtype='float32'),\n",
    "                     'D' : np.array([3] * 4,dtype='int32'),\n",
    "                     'E' : pd.Categorical([\"test\",\"train\",\"test\",\"train\"]),\n",
    "                     'F' : 'foo' })"
   ]
  },
  {
   "cell_type": "code",
   "execution_count": 19,
   "metadata": {
    "collapsed": false
   },
   "outputs": [
    {
     "name": "stdout",
     "output_type": "stream",
     "text": [
      "   A          B  C  D      E    F\n",
      "0  1 2013-01-02  1  3   test  foo\n",
      "1  1 2013-01-02  1  3  train  foo\n",
      "2  1 2013-01-02  1  3   test  foo\n",
      "3  1 2013-01-02  1  3  train  foo\n"
     ]
    }
   ],
   "source": [
    "print df2"
   ]
  },
  {
   "cell_type": "code",
   "execution_count": 21,
   "metadata": {
    "collapsed": false
   },
   "outputs": [
    {
     "name": "stdout",
     "output_type": "stream",
     "text": [
      "A           float64\n",
      "B    datetime64[ns]\n",
      "C           float32\n",
      "D             int32\n",
      "E          category\n",
      "F            object\n",
      "dtype: object\n"
     ]
    }
   ],
   "source": [
    "#we can performs several pandas dataframe function over df and df2\n",
    "#print datatypes of the columns by dtypes property\n",
    "print df2.dtypes"
   ]
  },
  {
   "cell_type": "code",
   "execution_count": 26,
   "metadata": {
    "collapsed": false
   },
   "outputs": [
    {
     "name": "stdout",
     "output_type": "stream",
     "text": [
      "                   A         B         C         D\n",
      "2016-02-16 -0.777715  0.832819  0.308761  0.441936\n",
      "2016-02-17 -0.480723 -1.293394  0.930980  0.414803\n",
      "2016-02-18 -0.323725  0.207236 -0.079057  0.044622\n",
      "2016-02-19 -0.911825 -0.443269  1.122244 -0.812158\n",
      "2016-02-20  1.517761 -0.111079  0.345689  0.164318\n"
     ]
    }
   ],
   "source": [
    "#viewing the data\n",
    "#head print first 5 row or complete dataframe if it has less than or equal to 5 row\n",
    "print df.head()"
   ]
  },
  {
   "cell_type": "code",
   "execution_count": 27,
   "metadata": {
    "collapsed": false
   },
   "outputs": [
    {
     "name": "stdout",
     "output_type": "stream",
     "text": [
      "                   A         B         C         D\n",
      "2016-02-18 -0.323725  0.207236 -0.079057  0.044622\n",
      "2016-02-19 -0.911825 -0.443269  1.122244 -0.812158\n",
      "2016-02-20  1.517761 -0.111079  0.345689  0.164318\n",
      "2016-02-21 -1.142340  1.063549 -0.168490 -0.878292\n"
     ]
    }
   ],
   "source": [
    "#tail method print specified numbers of rows from the end\n",
    "print df.tail(4)"
   ]
  },
  {
   "cell_type": "code",
   "execution_count": 29,
   "metadata": {
    "collapsed": false
   },
   "outputs": [
    {
     "name": "stdout",
     "output_type": "stream",
     "text": [
      "DatetimeIndex(['2016-02-16', '2016-02-17', '2016-02-18', '2016-02-19',\n",
      "               '2016-02-20', '2016-02-21'],\n",
      "              dtype='datetime64[ns]', freq='D')\n"
     ]
    }
   ],
   "source": [
    "#print the attribute of dataframe \n",
    "print df.index"
   ]
  },
  {
   "cell_type": "code",
   "execution_count": 30,
   "metadata": {
    "collapsed": false
   },
   "outputs": [
    {
     "name": "stdout",
     "output_type": "stream",
     "text": [
      "Index([u'A', u'B', u'C', u'D'], dtype='object')\n"
     ]
    }
   ],
   "source": [
    "print df.columns"
   ]
  },
  {
   "cell_type": "code",
   "execution_count": 31,
   "metadata": {
    "collapsed": false
   },
   "outputs": [
    {
     "name": "stdout",
     "output_type": "stream",
     "text": [
      "[[-0.77771474  0.83281855  0.3087614   0.44193619]\n",
      " [-0.48072349 -1.29339381  0.93098043  0.41480339]\n",
      " [-0.32372488  0.20723631 -0.07905652  0.04462186]\n",
      " [-0.91182513 -0.44326922  1.12224416 -0.81215797]\n",
      " [ 1.51776148 -0.11107921  0.34568917  0.16431805]\n",
      " [-1.14233996  1.06354865 -0.1684899  -0.87829201]]\n"
     ]
    }
   ],
   "source": [
    "print df.values"
   ]
  },
  {
   "cell_type": "code",
   "execution_count": 32,
   "metadata": {
    "collapsed": false
   },
   "outputs": [
    {
     "name": "stdout",
     "output_type": "stream",
     "text": [
      "              A         B         C         D\n",
      "count  6.000000  6.000000  6.000000  6.000000\n",
      "mean  -0.353094  0.042644  0.410021 -0.104128\n",
      "std    0.962564  0.864691  0.522862  0.593684\n",
      "min   -1.142340 -1.293394 -0.168490 -0.878292\n",
      "25%   -0.878298 -0.360222  0.017898 -0.597963\n",
      "50%   -0.629219  0.048079  0.327225  0.104470\n",
      "75%   -0.362975  0.676423  0.784658  0.352182\n",
      "max    1.517761  1.063549  1.122244  0.441936\n"
     ]
    }
   ],
   "source": [
    "#Describe shows a quick statistic summary of your data\n",
    "print df.describe()"
   ]
  },
  {
   "cell_type": "code",
   "execution_count": 33,
   "metadata": {
    "collapsed": false
   },
   "outputs": [
    {
     "name": "stdout",
     "output_type": "stream",
     "text": [
      "   2016-02-16  2016-02-17  2016-02-18  2016-02-19  2016-02-20  2016-02-21\n",
      "A   -0.777715   -0.480723   -0.323725   -0.911825    1.517761   -1.142340\n",
      "B    0.832819   -1.293394    0.207236   -0.443269   -0.111079    1.063549\n",
      "C    0.308761    0.930980   -0.079057    1.122244    0.345689   -0.168490\n",
      "D    0.441936    0.414803    0.044622   -0.812158    0.164318   -0.878292\n"
     ]
    }
   ],
   "source": [
    "#Transposing your data\n",
    "print df.T"
   ]
  },
  {
   "cell_type": "code",
   "execution_count": 36,
   "metadata": {
    "collapsed": false
   },
   "outputs": [
    {
     "name": "stdout",
     "output_type": "stream",
     "text": [
      "                   D         C         B         A\n",
      "2016-02-16  0.441936  0.308761  0.832819 -0.777715\n",
      "2016-02-17  0.414803  0.930980 -1.293394 -0.480723\n",
      "2016-02-18  0.044622 -0.079057  0.207236 -0.323725\n",
      "2016-02-19 -0.812158  1.122244 -0.443269 -0.911825\n",
      "2016-02-20  0.164318  0.345689 -0.111079  1.517761\n",
      "2016-02-21 -0.878292 -0.168490  1.063549 -1.142340\n"
     ]
    }
   ],
   "source": [
    "#Sorting by an axis\n",
    "print df.sort_index(axis=1, ascending=False)"
   ]
  },
  {
   "cell_type": "code",
   "execution_count": 43,
   "metadata": {
    "collapsed": false
   },
   "outputs": [
    {
     "name": "stdout",
     "output_type": "stream",
     "text": [
      "                   A         B         C         D\n",
      "2016-02-17 -0.480723 -1.293394  0.930980  0.414803\n",
      "2016-02-19 -0.911825 -0.443269  1.122244 -0.812158\n",
      "2016-02-20  1.517761 -0.111079  0.345689  0.164318\n",
      "2016-02-18 -0.323725  0.207236 -0.079057  0.044622\n",
      "2016-02-16 -0.777715  0.832819  0.308761  0.441936\n",
      "2016-02-21 -1.142340  1.063549 -0.168490 -0.878292\n"
     ]
    },
    {
     "name": "stderr",
     "output_type": "stream",
     "text": [
      "C:\\Users\\Ashutosh Pandey\\Anaconda\\lib\\site-packages\\ipykernel\\__main__.py:2: FutureWarning: sort(columns=....) is deprecated, use sort_values(by=.....)\n",
      "  from ipykernel import kernelapp as app\n"
     ]
    }
   ],
   "source": [
    "#Sorting by values\n",
    "print df.sort(columns='B')"
   ]
  },
  {
   "cell_type": "code",
   "execution_count": 44,
   "metadata": {
    "collapsed": false
   },
   "outputs": [
    {
     "name": "stdout",
     "output_type": "stream",
     "text": [
      "2016-02-16   -0.777715\n",
      "2016-02-17   -0.480723\n",
      "2016-02-18   -0.323725\n",
      "2016-02-19   -0.911825\n",
      "2016-02-20    1.517761\n",
      "2016-02-21   -1.142340\n",
      "Freq: D, Name: A, dtype: float64\n"
     ]
    }
   ],
   "source": [
    "#Selection in the dataframe\n",
    "#print particular column\n",
    "print df['A']"
   ]
  },
  {
   "cell_type": "code",
   "execution_count": 46,
   "metadata": {
    "collapsed": false
   },
   "outputs": [
    {
     "name": "stdout",
     "output_type": "stream",
     "text": [
      "                   A         B         C         D\n",
      "2016-02-16 -0.777715  0.832819  0.308761  0.441936\n",
      "2016-02-17 -0.480723 -1.293394  0.930980  0.414803\n",
      "2016-02-18 -0.323725  0.207236 -0.079057  0.044622\n"
     ]
    }
   ],
   "source": [
    "#print first three rows\n",
    "#simple slicing \n",
    "print df[0:3] "
   ]
  },
  {
   "cell_type": "code",
   "execution_count": 48,
   "metadata": {
    "collapsed": false
   },
   "outputs": [
    {
     "name": "stdout",
     "output_type": "stream",
     "text": [
      "                   A         B         C         D\n",
      "2016-02-16 -0.777715  0.832819  0.308761  0.441936\n",
      "2016-02-17 -0.480723 -1.293394  0.930980  0.414803\n",
      "2016-02-18 -0.323725  0.207236 -0.079057  0.044622\n",
      "2016-02-19 -0.911825 -0.443269  1.122244 -0.812158\n"
     ]
    }
   ],
   "source": [
    "#slice via index\n",
    "print df['20160216':'20160219']"
   ]
  },
  {
   "cell_type": "code",
   "execution_count": 49,
   "metadata": {
    "collapsed": false
   },
   "outputs": [
    {
     "name": "stdout",
     "output_type": "stream",
     "text": [
      "A   -0.777715\n",
      "B    0.832819\n",
      "C    0.308761\n",
      "D    0.441936\n",
      "Name: 2016-02-16 00:00:00, dtype: float64\n"
     ]
    }
   ],
   "source": [
    "#Selection by Label\n",
    "print df.loc[dates[0]]"
   ]
  },
  {
   "cell_type": "code",
   "execution_count": 52,
   "metadata": {
    "collapsed": false
   },
   "outputs": [
    {
     "name": "stdout",
     "output_type": "stream",
     "text": [
      "                   A         B\n",
      "2016-02-16 -0.777715  0.832819\n",
      "2016-02-17 -0.480723 -1.293394\n",
      "2016-02-18 -0.323725  0.207236\n",
      "2016-02-19 -0.911825 -0.443269\n",
      "2016-02-20  1.517761 -0.111079\n",
      "2016-02-21 -1.142340  1.063549\n"
     ]
    }
   ],
   "source": [
    "#here select all level : and the select A and B\n",
    "#Selecting on a multi-axis by label\n",
    "print df.loc[:,['A','B']]"
   ]
  },
  {
   "cell_type": "code",
   "execution_count": 54,
   "metadata": {
    "collapsed": false
   },
   "outputs": [
    {
     "name": "stdout",
     "output_type": "stream",
     "text": [
      "                   A         B\n",
      "2016-02-16 -0.777715  0.832819\n",
      "2016-02-17 -0.480723 -1.293394\n",
      "2016-02-18 -0.323725  0.207236\n",
      "2016-02-19 -0.911825 -0.443269\n"
     ]
    }
   ],
   "source": [
    "#Showing label slicing, both endpoints are included\n",
    "print df.loc['20160216':'20160219',['A','B']]"
   ]
  },
  {
   "cell_type": "code",
   "execution_count": 71,
   "metadata": {
    "collapsed": false
   },
   "outputs": [
    {
     "name": "stdout",
     "output_type": "stream",
     "text": [
      "-0.777714742452\n",
      "10000 loops, best of 3: 162 µs per loop\n"
     ]
    }
   ],
   "source": [
    "#For getting a scalar value\n",
    "#getting the very firt value\n",
    "print df.loc[dates[0],'A']\n",
    "%timeit df.loc[dates[0],'A']"
   ]
  },
  {
   "cell_type": "code",
   "execution_count": 65,
   "metadata": {
    "collapsed": false
   },
   "outputs": [
    {
     "name": "stdout",
     "output_type": "stream",
     "text": [
      "-0.777714742452\n",
      "The slowest run took 7.43 times longer than the fastest. This could mean that an intermediate result is being cached \n",
      "100000 loops, best of 3: 13.1 µs per loop\n"
     ]
    }
   ],
   "source": [
    "#For getting fast access to a scalar (equiv to the prior method)\n",
    "#timeit return run time per loop\n",
    "print df.at[dates[0],'A']\n",
    "%timeit df.at[dates[0],'A']"
   ]
  },
  {
   "cell_type": "code",
   "execution_count": 74,
   "metadata": {
    "collapsed": false
   },
   "outputs": [
    {
     "name": "stdout",
     "output_type": "stream",
     "text": [
      "A   -0.911825\n",
      "B   -0.443269\n",
      "C    1.122244\n",
      "D   -0.812158\n",
      "Name: 2016-02-19 00:00:00, dtype: float64\n"
     ]
    }
   ],
   "source": [
    "#Select via the position of the passed integers\n",
    "print df.iloc[3]"
   ]
  },
  {
   "cell_type": "code",
   "execution_count": 80,
   "metadata": {
    "collapsed": false
   },
   "outputs": [
    {
     "name": "stdout",
     "output_type": "stream",
     "text": [
      "                   A         B\n",
      "2016-02-19 -0.911825 -0.443269\n",
      "2016-02-20  1.517761 -0.111079\n"
     ]
    }
   ],
   "source": [
    "#Again slicing by integer value\n",
    "#note iloc only takes integer\n",
    "print df.iloc[3:5,0:2]"
   ]
  },
  {
   "cell_type": "code",
   "execution_count": 81,
   "metadata": {
    "collapsed": false
   },
   "outputs": [
    {
     "name": "stdout",
     "output_type": "stream",
     "text": [
      "                   A         C\n",
      "2016-02-17 -0.480723  0.930980\n",
      "2016-02-18 -0.323725 -0.079057\n",
      "2016-02-20  1.517761  0.345689\n"
     ]
    }
   ],
   "source": [
    "#By lists of integer position locations, similar to the numpy/python style\n",
    "print df.iloc[[1,2,4],[0,2]]"
   ]
  },
  {
   "cell_type": "code",
   "execution_count": 82,
   "metadata": {
    "collapsed": false
   },
   "outputs": [
    {
     "name": "stdout",
     "output_type": "stream",
     "text": [
      "                   A         B         C         D\n",
      "2016-02-17 -0.480723 -1.293394  0.930980  0.414803\n",
      "2016-02-18 -0.323725  0.207236 -0.079057  0.044622\n"
     ]
    }
   ],
   "source": [
    "#For slicing rows explicitly\n",
    "print df.iloc[1:3,:]"
   ]
  },
  {
   "cell_type": "code",
   "execution_count": 84,
   "metadata": {
    "collapsed": false
   },
   "outputs": [
    {
     "name": "stdout",
     "output_type": "stream",
     "text": [
      "                   B         C\n",
      "2016-02-16  0.832819  0.308761\n",
      "2016-02-17 -1.293394  0.930980\n",
      "2016-02-18  0.207236 -0.079057\n",
      "2016-02-19 -0.443269  1.122244\n",
      "2016-02-20 -0.111079  0.345689\n",
      "2016-02-21  1.063549 -0.168490\n"
     ]
    }
   ],
   "source": [
    "#For slicing columns explicitly\n",
    "print df.iloc[:,1:3]"
   ]
  },
  {
   "cell_type": "code",
   "execution_count": 88,
   "metadata": {
    "collapsed": false
   },
   "outputs": [
    {
     "name": "stdout",
     "output_type": "stream",
     "text": [
      "-1.29339380635\n",
      "10000 loops, best of 3: 114 µs per loop\n"
     ]
    }
   ],
   "source": [
    "#For getting a value explicitly\n",
    "print df.iloc[1,1]\n",
    "%timeit df.iloc[1,1]"
   ]
  },
  {
   "cell_type": "code",
   "execution_count": 89,
   "metadata": {
    "collapsed": false
   },
   "outputs": [
    {
     "name": "stdout",
     "output_type": "stream",
     "text": [
      "-1.29339380635\n",
      "The slowest run took 8.63 times longer than the fastest. This could mean that an intermediate result is being cached \n",
      "100000 loops, best of 3: 7.08 µs per loop\n"
     ]
    }
   ],
   "source": [
    "#For getting fast access to a scalar (equiv to the prior method)\n",
    "#note iloc is faster than loc \n",
    "print df.iat[1,1]\n",
    "%timeit df.iat[1,1]"
   ]
  },
  {
   "cell_type": "code",
   "execution_count": 93,
   "metadata": {
    "collapsed": false
   },
   "outputs": [
    {
     "name": "stdout",
     "output_type": "stream",
     "text": [
      "                   A         B         C         D\n",
      "2016-02-20  1.517761 -0.111079  0.345689  0.164318\n"
     ]
    }
   ],
   "source": [
    "#Using a single column’s values to select data.\n",
    "print df[df.A > 0]"
   ]
  },
  {
   "cell_type": "code",
   "execution_count": 95,
   "metadata": {
    "collapsed": false
   },
   "outputs": [
    {
     "name": "stdout",
     "output_type": "stream",
     "text": [
      "                   A         B         C         D\n",
      "2016-02-16       NaN  0.832819  0.308761  0.441936\n",
      "2016-02-17       NaN       NaN  0.930980  0.414803\n",
      "2016-02-18       NaN  0.207236       NaN  0.044622\n",
      "2016-02-19       NaN       NaN  1.122244       NaN\n",
      "2016-02-20  1.517761       NaN  0.345689  0.164318\n",
      "2016-02-21       NaN  1.063549       NaN       NaN\n"
     ]
    }
   ],
   "source": [
    "#A where operation for getting.\n",
    "#get all positive value in the dataframe\n",
    "print df[df > 0]"
   ]
  },
  {
   "cell_type": "code",
   "execution_count": 96,
   "metadata": {
    "collapsed": true
   },
   "outputs": [],
   "source": [
    "#copy one dataframe to another\n",
    "df2 = df.copy()"
   ]
  },
  {
   "cell_type": "code",
   "execution_count": 100,
   "metadata": {
    "collapsed": true
   },
   "outputs": [],
   "source": [
    "#create new row and assign values explicitly\n",
    "df2['E'] = ['one', 'one','two','three','four','three']"
   ]
  },
  {
   "cell_type": "code",
   "execution_count": 102,
   "metadata": {
    "collapsed": false
   },
   "outputs": [
    {
     "name": "stdout",
     "output_type": "stream",
     "text": [
      "                   A         B         C         D      E\n",
      "2016-02-16 -0.777715  0.832819  0.308761  0.441936    one\n",
      "2016-02-17 -0.480723 -1.293394  0.930980  0.414803    one\n",
      "2016-02-18 -0.323725  0.207236 -0.079057  0.044622    two\n",
      "2016-02-19 -0.911825 -0.443269  1.122244 -0.812158  three\n",
      "2016-02-20  1.517761 -0.111079  0.345689  0.164318   four\n",
      "2016-02-21 -1.142340  1.063549 -0.168490 -0.878292  three\n"
     ]
    }
   ],
   "source": [
    "print df2"
   ]
  },
  {
   "cell_type": "code",
   "execution_count": 104,
   "metadata": {
    "collapsed": false
   },
   "outputs": [
    {
     "name": "stdout",
     "output_type": "stream",
     "text": [
      "                   A         B         C         D     E\n",
      "2016-02-18 -0.323725  0.207236 -0.079057  0.044622   two\n",
      "2016-02-20  1.517761 -0.111079  0.345689  0.164318  four\n"
     ]
    }
   ],
   "source": [
    "#select particular column and then select specific row\n",
    "print df2[df2['E'].isin(['two','four'])]"
   ]
  },
  {
   "cell_type": "code",
   "execution_count": 113,
   "metadata": {
    "collapsed": true
   },
   "outputs": [],
   "source": [
    "#Setting a new column automatically aligns the data by the indexes\n",
    "s1 = Series([1,2,3,4,5,6], index=pd.date_range('20160216', periods=6))"
   ]
  },
  {
   "cell_type": "code",
   "execution_count": 114,
   "metadata": {
    "collapsed": false
   },
   "outputs": [
    {
     "name": "stdout",
     "output_type": "stream",
     "text": [
      "2016-02-16    1\n",
      "2016-02-17    2\n",
      "2016-02-18    3\n",
      "2016-02-19    4\n",
      "2016-02-20    5\n",
      "2016-02-21    6\n",
      "Freq: D, dtype: int64\n"
     ]
    }
   ],
   "source": [
    "print s1"
   ]
  },
  {
   "cell_type": "code",
   "execution_count": 121,
   "metadata": {
    "collapsed": true
   },
   "outputs": [],
   "source": [
    "#assign a series as column to dataframe\n",
    "df['F'] = s1"
   ]
  },
  {
   "cell_type": "code",
   "execution_count": 122,
   "metadata": {
    "collapsed": false
   },
   "outputs": [
    {
     "name": "stdout",
     "output_type": "stream",
     "text": [
      "                   A         B         C         D  F\n",
      "2016-02-16  0.000000  0.832819  0.308761  0.441936  1\n",
      "2016-02-17 -0.480723 -1.293394  0.930980  0.414803  2\n",
      "2016-02-18 -0.323725  0.207236 -0.079057  0.044622  3\n",
      "2016-02-19 -0.911825 -0.443269  1.122244 -0.812158  4\n",
      "2016-02-20  1.517761 -0.111079  0.345689  0.164318  5\n",
      "2016-02-21 -1.142340  1.063549 -0.168490 -0.878292  6\n"
     ]
    }
   ],
   "source": [
    "print df"
   ]
  },
  {
   "cell_type": "code",
   "execution_count": 123,
   "metadata": {
    "collapsed": true
   },
   "outputs": [],
   "source": [
    "#reset value of df\n",
    "df.at[dates[0],'A'] = 0"
   ]
  },
  {
   "cell_type": "code",
   "execution_count": 124,
   "metadata": {
    "collapsed": false
   },
   "outputs": [
    {
     "name": "stdout",
     "output_type": "stream",
     "text": [
      "                   A         B         C         D  F\n",
      "2016-02-16  0.000000  0.832819  0.308761  0.441936  1\n",
      "2016-02-17 -0.480723 -1.293394  0.930980  0.414803  2\n",
      "2016-02-18 -0.323725  0.207236 -0.079057  0.044622  3\n",
      "2016-02-19 -0.911825 -0.443269  1.122244 -0.812158  4\n",
      "2016-02-20  1.517761 -0.111079  0.345689  0.164318  5\n",
      "2016-02-21 -1.142340  1.063549 -0.168490 -0.878292  6\n"
     ]
    }
   ],
   "source": [
    "print df"
   ]
  },
  {
   "cell_type": "code",
   "execution_count": 125,
   "metadata": {
    "collapsed": true
   },
   "outputs": [],
   "source": [
    "df.iat[0,1] = 0"
   ]
  },
  {
   "cell_type": "code",
   "execution_count": 127,
   "metadata": {
    "collapsed": false
   },
   "outputs": [
    {
     "name": "stdout",
     "output_type": "stream",
     "text": [
      "                   A         B         C         D  F\n",
      "2016-02-16  0.000000  0.000000  0.308761  0.441936  1\n",
      "2016-02-17 -0.480723 -1.293394  0.930980  0.414803  2\n",
      "2016-02-18 -0.323725  0.207236 -0.079057  0.044622  3\n",
      "2016-02-19 -0.911825 -0.443269  1.122244 -0.812158  4\n",
      "2016-02-20  1.517761 -0.111079  0.345689  0.164318  5\n",
      "2016-02-21 -1.142340  1.063549 -0.168490 -0.878292  6\n"
     ]
    }
   ],
   "source": [
    "print df"
   ]
  },
  {
   "cell_type": "code",
   "execution_count": 130,
   "metadata": {
    "collapsed": true
   },
   "outputs": [],
   "source": [
    "#setting D column to 5 \n",
    "df.loc[:,'D'] = np.array([5] * len(df))"
   ]
  },
  {
   "cell_type": "code",
   "execution_count": 131,
   "metadata": {
    "collapsed": false
   },
   "outputs": [
    {
     "name": "stdout",
     "output_type": "stream",
     "text": [
      "                   A         B         C  D  F\n",
      "2016-02-16  0.000000  0.000000  0.308761  5  1\n",
      "2016-02-17 -0.480723 -1.293394  0.930980  5  2\n",
      "2016-02-18 -0.323725  0.207236 -0.079057  5  3\n",
      "2016-02-19 -0.911825 -0.443269  1.122244  5  4\n",
      "2016-02-20  1.517761 -0.111079  0.345689  5  5\n",
      "2016-02-21 -1.142340  1.063549 -0.168490  5  6\n"
     ]
    }
   ],
   "source": [
    "print df"
   ]
  },
  {
   "cell_type": "code",
   "execution_count": 134,
   "metadata": {
    "collapsed": true
   },
   "outputs": [],
   "source": [
    "#Missing Data\n",
    "df1 = df.reindex(index=dates[0:4], columns=list(df.columns) + ['E']) "
   ]
  },
  {
   "cell_type": "code",
   "execution_count": 135,
   "metadata": {
    "collapsed": false
   },
   "outputs": [
    {
     "name": "stdout",
     "output_type": "stream",
     "text": [
      "                   A         B         C  D  F   E\n",
      "2016-02-16  0.000000  0.000000  0.308761  5  1 NaN\n",
      "2016-02-17 -0.480723 -1.293394  0.930980  5  2 NaN\n",
      "2016-02-18 -0.323725  0.207236 -0.079057  5  3 NaN\n",
      "2016-02-19 -0.911825 -0.443269  1.122244  5  4 NaN\n"
     ]
    }
   ],
   "source": [
    "print df1"
   ]
  },
  {
   "cell_type": "code",
   "execution_count": 136,
   "metadata": {
    "collapsed": true
   },
   "outputs": [],
   "source": [
    "df1.loc[dates[0]:dates[1],'E'] = 1"
   ]
  },
  {
   "cell_type": "code",
   "execution_count": 137,
   "metadata": {
    "collapsed": false
   },
   "outputs": [
    {
     "name": "stdout",
     "output_type": "stream",
     "text": [
      "                   A         B         C  D  F   E\n",
      "2016-02-16  0.000000  0.000000  0.308761  5  1   1\n",
      "2016-02-17 -0.480723 -1.293394  0.930980  5  2   1\n",
      "2016-02-18 -0.323725  0.207236 -0.079057  5  3 NaN\n",
      "2016-02-19 -0.911825 -0.443269  1.122244  5  4 NaN\n"
     ]
    }
   ],
   "source": [
    "print df1"
   ]
  },
  {
   "cell_type": "code",
   "execution_count": 140,
   "metadata": {
    "collapsed": false
   },
   "outputs": [
    {
     "name": "stdout",
     "output_type": "stream",
     "text": [
      "                   A         B         C  D  F  E\n",
      "2016-02-16  0.000000  0.000000  0.308761  5  1  1\n",
      "2016-02-17 -0.480723 -1.293394  0.930980  5  2  1\n"
     ]
    }
   ],
   "source": [
    "print df1.dropna(how='any')"
   ]
  },
  {
   "cell_type": "code",
   "execution_count": 142,
   "metadata": {
    "collapsed": false
   },
   "outputs": [
    {
     "name": "stdout",
     "output_type": "stream",
     "text": [
      "                   A         B         C  D  F  E\n",
      "2016-02-16  0.000000  0.000000  0.308761  5  1  1\n",
      "2016-02-17 -0.480723 -1.293394  0.930980  5  2  1\n",
      "2016-02-18 -0.323725  0.207236 -0.079057  5  3  5\n",
      "2016-02-19 -0.911825 -0.443269  1.122244  5  4  5\n"
     ]
    }
   ],
   "source": [
    "print df1.fillna(value=5)"
   ]
  },
  {
   "cell_type": "code",
   "execution_count": 143,
   "metadata": {
    "collapsed": false
   },
   "outputs": [
    {
     "name": "stdout",
     "output_type": "stream",
     "text": [
      "                A      B      C      D      F      E\n",
      "2016-02-16  False  False  False  False  False  False\n",
      "2016-02-17  False  False  False  False  False  False\n",
      "2016-02-18  False  False  False  False  False   True\n",
      "2016-02-19  False  False  False  False  False   True\n"
     ]
    }
   ],
   "source": [
    "print pd.isnull(df1)"
   ]
  },
  {
   "cell_type": "code",
   "execution_count": 144,
   "metadata": {
    "collapsed": false
   },
   "outputs": [
    {
     "data": {
      "text/plain": [
       "A   -0.223475\n",
       "B   -0.096160\n",
       "C    0.410021\n",
       "D    5.000000\n",
       "F    3.500000\n",
       "dtype: float64"
      ]
     },
     "execution_count": 144,
     "metadata": {},
     "output_type": "execute_result"
    }
   ],
   "source": [
    "#Stats\n",
    "df.mean()"
   ]
  },
  {
   "cell_type": "code",
   "execution_count": 146,
   "metadata": {
    "collapsed": false
   },
   "outputs": [
    {
     "data": {
      "text/plain": [
       "2016-02-16    1.261752\n",
       "2016-02-17    1.231373\n",
       "2016-02-18    1.560891\n",
       "2016-02-19    1.753430\n",
       "2016-02-20    2.350474\n",
       "2016-02-21    2.150544\n",
       "Freq: D, dtype: float64"
      ]
     },
     "execution_count": 146,
     "metadata": {},
     "output_type": "execute_result"
    }
   ],
   "source": [
    "#Same operation on the other axis\n",
    "df.mean(1)"
   ]
  },
  {
   "cell_type": "code",
   "execution_count": 149,
   "metadata": {
    "collapsed": true
   },
   "outputs": [],
   "source": [
    "#Operating with objects that have different dimensionality and need alignment. In addition, pandas automatically broadcasts along the specified dimension\n",
    "s = Series([1,3,5,np.nan,6,8], index=dates).shift(2)"
   ]
  },
  {
   "cell_type": "code",
   "execution_count": 154,
   "metadata": {
    "collapsed": false
   },
   "outputs": [
    {
     "data": {
      "text/plain": [
       "2016-02-16   NaN\n",
       "2016-02-17   NaN\n",
       "2016-02-18     1\n",
       "2016-02-19     3\n",
       "2016-02-20     5\n",
       "2016-02-21   NaN\n",
       "Freq: D, dtype: float64"
      ]
     },
     "execution_count": 154,
     "metadata": {},
     "output_type": "execute_result"
    }
   ],
   "source": [
    "s"
   ]
  },
  {
   "cell_type": "code",
   "execution_count": 155,
   "metadata": {
    "collapsed": false
   },
   "outputs": [
    {
     "name": "stdout",
     "output_type": "stream",
     "text": [
      "                   A         B         C   D   F\n",
      "2016-02-16       NaN       NaN       NaN NaN NaN\n",
      "2016-02-17       NaN       NaN       NaN NaN NaN\n",
      "2016-02-18 -1.323725 -0.792764 -1.079057   4   2\n",
      "2016-02-19 -3.911825 -3.443269 -1.877756   2   1\n",
      "2016-02-20 -3.482239 -5.111079 -4.654311   0   0\n",
      "2016-02-21       NaN       NaN       NaN NaN NaN\n"
     ]
    }
   ],
   "source": [
    "print df.sub(s, axis='index')"
   ]
  },
  {
   "cell_type": "code",
   "execution_count": 156,
   "metadata": {
    "collapsed": false
   },
   "outputs": [
    {
     "name": "stdout",
     "output_type": "stream",
     "text": [
      "                   A         B         C   D   F\n",
      "2016-02-16  0.000000  0.000000  0.308761   5   1\n",
      "2016-02-17 -0.480723 -1.293394  1.239742  10   3\n",
      "2016-02-18 -0.804448 -1.086157  1.160685  15   6\n",
      "2016-02-19 -1.716273 -1.529427  2.282929  20  10\n",
      "2016-02-20 -0.198512 -1.640506  2.628619  25  15\n",
      "2016-02-21 -1.340852 -0.576957  2.460129  30  21\n"
     ]
    }
   ],
   "source": [
    "print df.apply(np.cumsum)"
   ]
  },
  {
   "cell_type": "code",
   "execution_count": 162,
   "metadata": {
    "collapsed": false
   },
   "outputs": [
    {
     "name": "stdout",
     "output_type": "stream",
     "text": [
      "                   A         B         C  D  F\n",
      "2016-02-16  0.000000  0.000000  0.308761  5  1\n",
      "2016-02-17 -0.480723 -1.293394  0.930980  5  2\n",
      "2016-02-18 -0.323725  0.207236 -0.079057  5  3\n",
      "2016-02-19 -0.911825 -0.443269  1.122244  5  4\n",
      "2016-02-20  1.517761 -0.111079  0.345689  5  5\n",
      "2016-02-21 -1.142340  1.063549 -0.168490  5  6\n"
     ]
    },
    {
     "data": {
      "text/plain": [
       "A    2.660101\n",
       "B    2.356942\n",
       "C    1.290734\n",
       "D    0.000000\n",
       "F    5.000000\n",
       "dtype: float64"
      ]
     },
     "execution_count": 162,
     "metadata": {},
     "output_type": "execute_result"
    }
   ],
   "source": [
    "#lambda is similar to foreach in c# or auto in c++\n",
    "#select max and min elements from each column and subtract \n",
    "print df\n",
    "df.apply(lambda x: x.max() - x.min())"
   ]
  }
 ],
 "metadata": {
  "kernelspec": {
   "display_name": "Python 2",
   "language": "python",
   "name": "python2"
  },
  "language_info": {
   "codemirror_mode": {
    "name": "ipython",
    "version": 2
   },
   "file_extension": ".py",
   "mimetype": "text/x-python",
   "name": "python",
   "nbconvert_exporter": "python",
   "pygments_lexer": "ipython2",
   "version": "2.7.11"
  }
 },
 "nbformat": 4,
 "nbformat_minor": 0
}
