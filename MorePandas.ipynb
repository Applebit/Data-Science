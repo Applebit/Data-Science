{
 "cells": [
  {
   "cell_type": "code",
   "execution_count": 1,
   "metadata": {
    "collapsed": false
   },
   "outputs": [
    {
     "name": "stdout",
     "output_type": "stream",
     "text": [
      "Populating the interactive namespace from numpy and matplotlib\n"
     ]
    },
    {
     "name": "stderr",
     "output_type": "stream",
     "text": [
      "WARNING: pylab import has clobbered these variables: ['info', 'unique', 'datetime']\n",
      "`%matplotlib` prevents importing * from pylab and numpy\n"
     ]
    }
   ],
   "source": [
    "import pandas as pd\n",
    "from pandas import *\n",
    "import numpy as np\n",
    "import matplotlib.pyplot as plt\n",
    "%pylab inline"
   ]
  },
  {
   "cell_type": "code",
   "execution_count": 5,
   "metadata": {
    "collapsed": true
   },
   "outputs": [],
   "source": [
    "#Histogramming and Discretization\n",
    "#select random integer between 0 to 7 exclusive and size will be 10\n",
    "s = Series(np.random.randint(0, 7, size=10))"
   ]
  },
  {
   "cell_type": "code",
   "execution_count": 7,
   "metadata": {
    "collapsed": false
   },
   "outputs": [
    {
     "data": {
      "text/plain": [
       "0    3\n",
       "1    2\n",
       "2    1\n",
       "3    4\n",
       "4    3\n",
       "5    0\n",
       "6    4\n",
       "7    1\n",
       "8    5\n",
       "9    3\n",
       "dtype: int32"
      ]
     },
     "execution_count": 7,
     "metadata": {},
     "output_type": "execute_result"
    }
   ],
   "source": [
    " s"
   ]
  },
  {
   "cell_type": "code",
   "execution_count": 8,
   "metadata": {
    "collapsed": false
   },
   "outputs": [
    {
     "data": {
      "text/plain": [
       "3    3\n",
       "4    2\n",
       "1    2\n",
       "5    1\n",
       "2    1\n",
       "0    1\n",
       "dtype: int64"
      ]
     },
     "execution_count": 8,
     "metadata": {},
     "output_type": "execute_result"
    }
   ],
   "source": [
    "#values count will count the number of occurance of particular integer\n",
    "s.value_counts()"
   ]
  },
  {
   "cell_type": "code",
   "execution_count": 22,
   "metadata": {
    "collapsed": true
   },
   "outputs": [],
   "source": [
    "#String Methods\n",
    "s=Series(['A', 'B', 'C', 'Aaba', 'Baca', np.nan, 'CABA', 'dog', 'cat'])"
   ]
  },
  {
   "cell_type": "code",
   "execution_count": 23,
   "metadata": {
    "collapsed": false
   },
   "outputs": [
    {
     "data": {
      "text/plain": [
       "0       A\n",
       "1       B\n",
       "2       C\n",
       "3    Aaba\n",
       "4    Baca\n",
       "5     NaN\n",
       "6    CABA\n",
       "7     dog\n",
       "8     cat\n",
       "dtype: object"
      ]
     },
     "execution_count": 23,
     "metadata": {},
     "output_type": "execute_result"
    }
   ],
   "source": [
    "s"
   ]
  },
  {
   "cell_type": "code",
   "execution_count": 24,
   "metadata": {
    "collapsed": false
   },
   "outputs": [
    {
     "data": {
      "text/plain": [
       "0       a\n",
       "1       b\n",
       "2       c\n",
       "3    aaba\n",
       "4    baca\n",
       "5     NaN\n",
       "6    caba\n",
       "7     dog\n",
       "8     cat\n",
       "dtype: object"
      ]
     },
     "execution_count": 24,
     "metadata": {},
     "output_type": "execute_result"
    }
   ],
   "source": [
    "#change the cases to lowercase\n",
    "s.str.lower()"
   ]
  },
  {
   "cell_type": "code",
   "execution_count": 18,
   "metadata": {
    "collapsed": false
   },
   "outputs": [],
   "source": [
    "#concat\n",
    "df =DataFrame(np.random.randn(10, 4))"
   ]
  },
  {
   "cell_type": "code",
   "execution_count": 16,
   "metadata": {
    "collapsed": false
   },
   "outputs": [
    {
     "data": {
      "text/html": [
       "<div>\n",
       "<table border=\"1\" class=\"dataframe\">\n",
       "  <thead>\n",
       "    <tr style=\"text-align: right;\">\n",
       "      <th></th>\n",
       "      <th>0</th>\n",
       "      <th>1</th>\n",
       "      <th>2</th>\n",
       "      <th>3</th>\n",
       "    </tr>\n",
       "  </thead>\n",
       "  <tbody>\n",
       "    <tr>\n",
       "      <th>0</th>\n",
       "      <td>0.495045</td>\n",
       "      <td>-0.637377</td>\n",
       "      <td>-1.676576</td>\n",
       "      <td>1.224666</td>\n",
       "    </tr>\n",
       "    <tr>\n",
       "      <th>1</th>\n",
       "      <td>1.287632</td>\n",
       "      <td>-1.608770</td>\n",
       "      <td>2.061000</td>\n",
       "      <td>-0.785779</td>\n",
       "    </tr>\n",
       "    <tr>\n",
       "      <th>2</th>\n",
       "      <td>0.393800</td>\n",
       "      <td>1.865230</td>\n",
       "      <td>-0.380113</td>\n",
       "      <td>0.011777</td>\n",
       "    </tr>\n",
       "    <tr>\n",
       "      <th>3</th>\n",
       "      <td>1.474780</td>\n",
       "      <td>-1.031376</td>\n",
       "      <td>-1.030442</td>\n",
       "      <td>-0.915209</td>\n",
       "    </tr>\n",
       "    <tr>\n",
       "      <th>4</th>\n",
       "      <td>-0.424851</td>\n",
       "      <td>-0.048529</td>\n",
       "      <td>-0.717051</td>\n",
       "      <td>-0.898209</td>\n",
       "    </tr>\n",
       "    <tr>\n",
       "      <th>5</th>\n",
       "      <td>-0.638841</td>\n",
       "      <td>-0.029879</td>\n",
       "      <td>1.698875</td>\n",
       "      <td>0.823304</td>\n",
       "    </tr>\n",
       "    <tr>\n",
       "      <th>6</th>\n",
       "      <td>0.543104</td>\n",
       "      <td>0.640218</td>\n",
       "      <td>0.290018</td>\n",
       "      <td>1.646979</td>\n",
       "    </tr>\n",
       "    <tr>\n",
       "      <th>7</th>\n",
       "      <td>0.097217</td>\n",
       "      <td>1.366281</td>\n",
       "      <td>0.435116</td>\n",
       "      <td>-1.235855</td>\n",
       "    </tr>\n",
       "    <tr>\n",
       "      <th>8</th>\n",
       "      <td>-0.584259</td>\n",
       "      <td>-0.141436</td>\n",
       "      <td>-0.704299</td>\n",
       "      <td>-0.445780</td>\n",
       "    </tr>\n",
       "    <tr>\n",
       "      <th>9</th>\n",
       "      <td>0.110587</td>\n",
       "      <td>-1.747822</td>\n",
       "      <td>-0.481884</td>\n",
       "      <td>0.467003</td>\n",
       "    </tr>\n",
       "  </tbody>\n",
       "</table>\n",
       "</div>"
      ],
      "text/plain": [
       "          0         1         2         3\n",
       "0  0.495045 -0.637377 -1.676576  1.224666\n",
       "1  1.287632 -1.608770  2.061000 -0.785779\n",
       "2  0.393800  1.865230 -0.380113  0.011777\n",
       "3  1.474780 -1.031376 -1.030442 -0.915209\n",
       "4 -0.424851 -0.048529 -0.717051 -0.898209\n",
       "5 -0.638841 -0.029879  1.698875  0.823304\n",
       "6  0.543104  0.640218  0.290018  1.646979\n",
       "7  0.097217  1.366281  0.435116 -1.235855\n",
       "8 -0.584259 -0.141436 -0.704299 -0.445780\n",
       "9  0.110587 -1.747822 -0.481884  0.467003"
      ]
     },
     "execution_count": 16,
     "metadata": {},
     "output_type": "execute_result"
    }
   ],
   "source": [
    "df"
   ]
  },
  {
   "cell_type": "code",
   "execution_count": 19,
   "metadata": {
    "collapsed": true
   },
   "outputs": [],
   "source": [
    "#If u dont like tublar farm use follwing code \n",
    "pd.set_option('display.notebook_repr_html', False)"
   ]
  },
  {
   "cell_type": "code",
   "execution_count": 20,
   "metadata": {
    "collapsed": false
   },
   "outputs": [
    {
     "data": {
      "text/plain": [
       "          0         1         2         3\n",
       "0 -0.429600  0.177366 -0.636609  0.738822\n",
       "1 -1.743312 -0.465851 -1.113130  0.306863\n",
       "2  1.111618  0.223389 -0.264295 -0.535412\n",
       "3  0.549164 -0.041487 -0.118143  0.017942\n",
       "4 -1.514630 -0.425706  1.133264  1.142181\n",
       "5 -0.629536 -0.257451  0.864320 -0.725595\n",
       "6 -1.230845 -0.922363  1.552901  0.429792\n",
       "7 -1.084674  3.048340  0.459099 -1.428281\n",
       "8 -0.230929 -1.991635 -0.223012 -0.027129\n",
       "9  0.581938 -0.164325 -0.117785 -0.789110"
      ]
     },
     "execution_count": 20,
     "metadata": {},
     "output_type": "execute_result"
    }
   ],
   "source": [
    "df"
   ]
  },
  {
   "cell_type": "code",
   "execution_count": 25,
   "metadata": {
    "collapsed": true
   },
   "outputs": [],
   "source": [
    "# break it into pieces\n",
    "pieces = [df[:3], df[3:7], df[7:]]"
   ]
  },
  {
   "cell_type": "code",
   "execution_count": 26,
   "metadata": {
    "collapsed": false
   },
   "outputs": [
    {
     "data": {
      "text/plain": [
       "[          0         1         2         3\n",
       " 0 -0.429600  0.177366 -0.636609  0.738822\n",
       " 1 -1.743312 -0.465851 -1.113130  0.306863\n",
       " 2  1.111618  0.223389 -0.264295 -0.535412,\n",
       "           0         1         2         3\n",
       " 3  0.549164 -0.041487 -0.118143  0.017942\n",
       " 4 -1.514630 -0.425706  1.133264  1.142181\n",
       " 5 -0.629536 -0.257451  0.864320 -0.725595\n",
       " 6 -1.230845 -0.922363  1.552901  0.429792,\n",
       "           0         1         2         3\n",
       " 7 -1.084674  3.048340  0.459099 -1.428281\n",
       " 8 -0.230929 -1.991635 -0.223012 -0.027129\n",
       " 9  0.581938 -0.164325 -0.117785 -0.789110]"
      ]
     },
     "execution_count": 26,
     "metadata": {},
     "output_type": "execute_result"
    }
   ],
   "source": [
    "pieces"
   ]
  },
  {
   "cell_type": "code",
   "execution_count": 28,
   "metadata": {
    "collapsed": false
   },
   "outputs": [
    {
     "data": {
      "text/plain": [
       "          0         1         2         3\n",
       "0 -0.429600  0.177366 -0.636609  0.738822\n",
       "1 -1.743312 -0.465851 -1.113130  0.306863\n",
       "2  1.111618  0.223389 -0.264295 -0.535412\n",
       "3  0.549164 -0.041487 -0.118143  0.017942\n",
       "4 -1.514630 -0.425706  1.133264  1.142181\n",
       "5 -0.629536 -0.257451  0.864320 -0.725595\n",
       "6 -1.230845 -0.922363  1.552901  0.429792\n",
       "7 -1.084674  3.048340  0.459099 -1.428281\n",
       "8 -0.230929 -1.991635 -0.223012 -0.027129\n",
       "9  0.581938 -0.164325 -0.117785 -0.789110"
      ]
     },
     "execution_count": 28,
     "metadata": {},
     "output_type": "execute_result"
    }
   ],
   "source": [
    "#we can concate the different dataframe to single\n",
    "pd.concat(pieces)"
   ]
  },
  {
   "cell_type": "code",
   "execution_count": 30,
   "metadata": {
    "collapsed": true
   },
   "outputs": [],
   "source": [
    "left =DataFrame({'key': ['foo', 'foo'], 'lval': [1, 2]})"
   ]
  },
  {
   "cell_type": "code",
   "execution_count": 31,
   "metadata": {
    "collapsed": false
   },
   "outputs": [
    {
     "data": {
      "text/plain": [
       "   key  lval\n",
       "0  foo     1\n",
       "1  foo     2"
      ]
     },
     "execution_count": 31,
     "metadata": {},
     "output_type": "execute_result"
    }
   ],
   "source": [
    "left"
   ]
  },
  {
   "cell_type": "code",
   "execution_count": 32,
   "metadata": {
    "collapsed": true
   },
   "outputs": [],
   "source": [
    "right = pd.DataFrame({'key': ['foo', 'foo'], 'rval': [4, 5]})"
   ]
  },
  {
   "cell_type": "code",
   "execution_count": 33,
   "metadata": {
    "collapsed": false
   },
   "outputs": [
    {
     "data": {
      "text/plain": [
       "   key  rval\n",
       "0  foo     4\n",
       "1  foo     5"
      ]
     },
     "execution_count": 33,
     "metadata": {},
     "output_type": "execute_result"
    }
   ],
   "source": [
    "right"
   ]
  },
  {
   "cell_type": "code",
   "execution_count": 36,
   "metadata": {
    "collapsed": false
   },
   "outputs": [
    {
     "data": {
      "text/plain": [
       "   key  lval  rval\n",
       "0  foo     1     4\n",
       "1  foo     1     5\n",
       "2  foo     2     4\n",
       "3  foo     2     5"
      ]
     },
     "execution_count": 36,
     "metadata": {},
     "output_type": "execute_result"
    }
   ],
   "source": [
    "merge(left, right, on='key')"
   ]
  },
  {
   "cell_type": "code",
   "execution_count": 37,
   "metadata": {
    "collapsed": true
   },
   "outputs": [],
   "source": [
    "#Append\n",
    "df =DataFrame(np.random.randn(8, 4), columns=['A','B','C','D'])"
   ]
  },
  {
   "cell_type": "code",
   "execution_count": 38,
   "metadata": {
    "collapsed": false
   },
   "outputs": [
    {
     "data": {
      "text/plain": [
       "          A         B         C         D\n",
       "0  0.545124 -0.079558  0.081007 -0.484327\n",
       "1 -1.686552  0.594189  0.929778 -0.611675\n",
       "2  0.398393 -0.288892  0.511899 -0.414099\n",
       "3 -0.213416 -0.087146 -0.632838  1.611546\n",
       "4 -0.429184  0.486033  0.372641  0.394388\n",
       "5  0.419816  1.018705 -0.267500 -1.046222\n",
       "6 -0.298234  0.154528 -2.234934 -1.644752\n",
       "7  0.177835  1.311411  1.164338 -0.594546"
      ]
     },
     "execution_count": 38,
     "metadata": {},
     "output_type": "execute_result"
    }
   ],
   "source": [
    "df"
   ]
  },
  {
   "cell_type": "code",
   "execution_count": 42,
   "metadata": {
    "collapsed": false
   },
   "outputs": [
    {
     "data": {
      "text/plain": [
       "A   -0.213416\n",
       "B   -0.087146\n",
       "C   -0.632838\n",
       "D    1.611546\n",
       "Name: 3, dtype: float64"
      ]
     },
     "execution_count": 42,
     "metadata": {},
     "output_type": "execute_result"
    }
   ],
   "source": [
    "s = df.iloc[3]\n",
    "s"
   ]
  },
  {
   "cell_type": "code",
   "execution_count": 45,
   "metadata": {
    "collapsed": false
   },
   "outputs": [
    {
     "data": {
      "text/plain": [
       "          A         B         C         D\n",
       "0  0.545124 -0.079558  0.081007 -0.484327\n",
       "1 -1.686552  0.594189  0.929778 -0.611675\n",
       "2  0.398393 -0.288892  0.511899 -0.414099\n",
       "3 -0.213416 -0.087146 -0.632838  1.611546\n",
       "4 -0.429184  0.486033  0.372641  0.394388\n",
       "5  0.419816  1.018705 -0.267500 -1.046222\n",
       "6 -0.298234  0.154528 -2.234934 -1.644752\n",
       "7  0.177835  1.311411  1.164338 -0.594546\n",
       "8 -0.213416 -0.087146 -0.632838  1.611546"
      ]
     },
     "execution_count": 45,
     "metadata": {},
     "output_type": "execute_result"
    }
   ],
   "source": [
    "#if ignore_index will be true then u will be ended up setting the last index as 3\n",
    "df.append(s, ignore_index=True)"
   ]
  },
  {
   "cell_type": "code",
   "execution_count": 47,
   "metadata": {
    "collapsed": true
   },
   "outputs": [],
   "source": [
    "#Grouping\n",
    "df = DataFrame({ 'A' : ['foo', 'bar', 'foo', 'bar',\n",
    "                    'foo', 'bar', 'foo', 'foo'],\n",
    "                    'B' : ['one', 'one', 'two', 'three',\n",
    "                    'two', 'two', 'one', 'three'],\n",
    "                     'C' : np.random.randn(8),\n",
    "                     'D' : np.random.randn(8)})"
   ]
  },
  {
   "cell_type": "code",
   "execution_count": 48,
   "metadata": {
    "collapsed": false
   },
   "outputs": [
    {
     "data": {
      "text/plain": [
       "     A      B         C         D\n",
       "0  foo    one  1.266045  2.490171\n",
       "1  bar    one -0.268765 -0.287407\n",
       "2  foo    two  2.629166  1.257915\n",
       "3  bar  three -0.498144  0.014129\n",
       "4  foo    two -1.386923  0.259933\n",
       "5  bar    two -0.409681  1.512999\n",
       "6  foo    one -1.730852 -1.141871\n",
       "7  foo  three  1.135316  1.499529"
      ]
     },
     "execution_count": 48,
     "metadata": {},
     "output_type": "execute_result"
    }
   ],
   "source": [
    "df"
   ]
  },
  {
   "cell_type": "code",
   "execution_count": 49,
   "metadata": {
    "collapsed": false
   },
   "outputs": [
    {
     "data": {
      "text/plain": [
       "            C         D\n",
       "A                      \n",
       "bar -1.176590  1.239721\n",
       "foo  1.912753  4.365676"
      ]
     },
     "execution_count": 49,
     "metadata": {},
     "output_type": "execute_result"
    }
   ],
   "source": [
    "#Grouping and then applying a function sum to the resulting groups.\n",
    "df.groupby('A').sum()"
   ]
  },
  {
   "cell_type": "code",
   "execution_count": 51,
   "metadata": {
    "collapsed": false
   },
   "outputs": [
    {
     "data": {
      "text/plain": [
       "                  C         D\n",
       "A   B                        \n",
       "bar one   -0.268765 -0.287407\n",
       "    three -0.498144  0.014129\n",
       "    two   -0.409681  1.512999\n",
       "foo one   -0.464806  1.348300\n",
       "    three  1.135316  1.499529\n",
       "    two    1.242243  1.517847"
      ]
     },
     "execution_count": 51,
     "metadata": {},
     "output_type": "execute_result"
    }
   ],
   "source": [
    "#Group by multiple column\n",
    "df.groupby(['A','B']).sum()"
   ]
  },
  {
   "cell_type": "code",
   "execution_count": 54,
   "metadata": {
    "collapsed": true
   },
   "outputs": [],
   "source": [
    "#Reshaping\n",
    "#just like pairing the one to one \n",
    "tuples = list(zip(*[['bar', 'bar', 'baz', 'baz', 'foo', 'foo', 'qux', 'qux'],\n",
    "                    ['one', 'two', 'one', 'two','one', 'two', 'one', 'two']]))"
   ]
  },
  {
   "cell_type": "code",
   "execution_count": 55,
   "metadata": {
    "collapsed": false
   },
   "outputs": [
    {
     "data": {
      "text/plain": [
       "[('bar', 'one'),\n",
       " ('bar', 'two'),\n",
       " ('baz', 'one'),\n",
       " ('baz', 'two'),\n",
       " ('foo', 'one'),\n",
       " ('foo', 'two'),\n",
       " ('qux', 'one'),\n",
       " ('qux', 'two')]"
      ]
     },
     "execution_count": 55,
     "metadata": {},
     "output_type": "execute_result"
    }
   ],
   "source": [
    "tuples"
   ]
  },
  {
   "cell_type": "code",
   "execution_count": 58,
   "metadata": {
    "collapsed": true
   },
   "outputs": [],
   "source": [
    "index = MultiIndex.from_tuples(tuples, names=['first', 'second'])"
   ]
  },
  {
   "cell_type": "code",
   "execution_count": 59,
   "metadata": {
    "collapsed": false
   },
   "outputs": [
    {
     "data": {
      "text/plain": [
       "MultiIndex(levels=[[u'bar', u'baz', u'foo', u'qux'], [u'one', u'two']],\n",
       "           labels=[[0, 0, 1, 1, 2, 2, 3, 3], [0, 1, 0, 1, 0, 1, 0, 1]],\n",
       "           names=[u'first', u'second'])"
      ]
     },
     "execution_count": 59,
     "metadata": {},
     "output_type": "execute_result"
    }
   ],
   "source": [
    "index"
   ]
  },
  {
   "cell_type": "code",
   "execution_count": null,
   "metadata": {
    "collapsed": true
   },
   "outputs": [],
   "source": []
  }
 ],
 "metadata": {
  "kernelspec": {
   "display_name": "Python 2",
   "language": "python",
   "name": "python2"
  },
  "language_info": {
   "codemirror_mode": {
    "name": "ipython",
    "version": 2
   },
   "file_extension": ".py",
   "mimetype": "text/x-python",
   "name": "python",
   "nbconvert_exporter": "python",
   "pygments_lexer": "ipython2",
   "version": "2.7.11"
  }
 },
 "nbformat": 4,
 "nbformat_minor": 0
}
